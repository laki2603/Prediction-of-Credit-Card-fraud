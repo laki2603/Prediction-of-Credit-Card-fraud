{
 "cells": [
  {
   "cell_type": "code",
   "execution_count": 2,
   "id": "dabb6e8a",
   "metadata": {},
   "outputs": [
    {
     "name": "stdout",
     "output_type": "stream",
     "text": [
      "Collecting notebook-as-pdf\n",
      "  Downloading notebook_as_pdf-0.5.0-py3-none-any.whl (6.5 kB)\n",
      "Requirement already satisfied: nbconvert in c:\\users\\asus\\anaconda3\\lib\\site-packages (from notebook-as-pdf) (6.5.4)\n",
      "Collecting pyppeteer (from notebook-as-pdf)\n",
      "  Downloading pyppeteer-1.0.2-py3-none-any.whl (83 kB)\n",
      "     ---------------------------------------- 0.0/83.4 kB ? eta -:--:--\n",
      "     ---------------------------------------- 83.4/83.4 kB 4.6 MB/s eta 0:00:00\n",
      "Collecting PyPDF2 (from notebook-as-pdf)\n",
      "  Downloading pypdf2-3.0.1-py3-none-any.whl (232 kB)\n",
      "     ---------------------------------------- 0.0/232.6 kB ? eta -:--:--\n",
      "     ------------------------------------- 232.6/232.6 kB 13.9 MB/s eta 0:00:00\n",
      "Requirement already satisfied: lxml in c:\\users\\asus\\anaconda3\\lib\\site-packages (from nbconvert->notebook-as-pdf) (4.9.2)\n",
      "Requirement already satisfied: beautifulsoup4 in c:\\users\\asus\\anaconda3\\lib\\site-packages (from nbconvert->notebook-as-pdf) (4.12.2)\n",
      "Requirement already satisfied: bleach in c:\\users\\asus\\anaconda3\\lib\\site-packages (from nbconvert->notebook-as-pdf) (4.1.0)\n",
      "Requirement already satisfied: defusedxml in c:\\users\\asus\\anaconda3\\lib\\site-packages (from nbconvert->notebook-as-pdf) (0.7.1)\n",
      "Requirement already satisfied: entrypoints>=0.2.2 in c:\\users\\asus\\anaconda3\\lib\\site-packages (from nbconvert->notebook-as-pdf) (0.4)\n",
      "Requirement already satisfied: jinja2>=3.0 in c:\\users\\asus\\anaconda3\\lib\\site-packages (from nbconvert->notebook-as-pdf) (3.1.2)\n",
      "Requirement already satisfied: jupyter-core>=4.7 in c:\\users\\asus\\anaconda3\\lib\\site-packages (from nbconvert->notebook-as-pdf) (5.3.0)\n",
      "Requirement already satisfied: jupyterlab-pygments in c:\\users\\asus\\anaconda3\\lib\\site-packages (from nbconvert->notebook-as-pdf) (0.1.2)\n",
      "Requirement already satisfied: MarkupSafe>=2.0 in c:\\users\\asus\\anaconda3\\lib\\site-packages (from nbconvert->notebook-as-pdf) (2.1.1)\n",
      "Requirement already satisfied: mistune<2,>=0.8.1 in c:\\users\\asus\\anaconda3\\lib\\site-packages (from nbconvert->notebook-as-pdf) (0.8.4)\n",
      "Requirement already satisfied: nbclient>=0.5.0 in c:\\users\\asus\\anaconda3\\lib\\site-packages (from nbconvert->notebook-as-pdf) (0.5.13)\n",
      "Requirement already satisfied: nbformat>=5.1 in c:\\users\\asus\\anaconda3\\lib\\site-packages (from nbconvert->notebook-as-pdf) (5.7.0)\n",
      "Requirement already satisfied: packaging in c:\\users\\asus\\anaconda3\\lib\\site-packages (from nbconvert->notebook-as-pdf) (23.0)\n",
      "Requirement already satisfied: pandocfilters>=1.4.1 in c:\\users\\asus\\anaconda3\\lib\\site-packages (from nbconvert->notebook-as-pdf) (1.5.0)\n",
      "Requirement already satisfied: pygments>=2.4.1 in c:\\users\\asus\\anaconda3\\lib\\site-packages (from nbconvert->notebook-as-pdf) (2.15.1)\n",
      "Requirement already satisfied: tinycss2 in c:\\users\\asus\\anaconda3\\lib\\site-packages (from nbconvert->notebook-as-pdf) (1.2.1)\n",
      "Requirement already satisfied: traitlets>=5.0 in c:\\users\\asus\\anaconda3\\lib\\site-packages (from nbconvert->notebook-as-pdf) (5.7.1)\n",
      "Requirement already satisfied: appdirs<2.0.0,>=1.4.3 in c:\\users\\asus\\anaconda3\\lib\\site-packages (from pyppeteer->notebook-as-pdf) (1.4.4)\n",
      "Requirement already satisfied: certifi>=2021 in c:\\users\\asus\\anaconda3\\lib\\site-packages (from pyppeteer->notebook-as-pdf) (2024.2.2)\n",
      "Requirement already satisfied: importlib-metadata>=1.4 in c:\\users\\asus\\anaconda3\\lib\\site-packages (from pyppeteer->notebook-as-pdf) (6.0.0)\n",
      "Collecting pyee<9.0.0,>=8.1.0 (from pyppeteer->notebook-as-pdf)\n",
      "  Downloading pyee-8.2.2-py2.py3-none-any.whl (12 kB)\n",
      "Requirement already satisfied: tqdm<5.0.0,>=4.42.1 in c:\\users\\asus\\anaconda3\\lib\\site-packages (from pyppeteer->notebook-as-pdf) (4.65.0)\n",
      "Requirement already satisfied: urllib3<2.0.0,>=1.25.8 in c:\\users\\asus\\anaconda3\\lib\\site-packages (from pyppeteer->notebook-as-pdf) (1.26.16)\n",
      "Collecting websockets<11.0,>=10.0 (from pyppeteer->notebook-as-pdf)\n",
      "  Downloading websockets-10.4-cp311-cp311-win_amd64.whl (101 kB)\n",
      "     ---------------------------------------- 0.0/101.4 kB ? eta -:--:--\n",
      "     -------------------------------------- 101.4/101.4 kB 6.1 MB/s eta 0:00:00\n",
      "Requirement already satisfied: zipp>=0.5 in c:\\users\\asus\\anaconda3\\lib\\site-packages (from importlib-metadata>=1.4->pyppeteer->notebook-as-pdf) (3.11.0)\n",
      "Requirement already satisfied: platformdirs>=2.5 in c:\\users\\asus\\anaconda3\\lib\\site-packages (from jupyter-core>=4.7->nbconvert->notebook-as-pdf) (2.5.2)\n",
      "Requirement already satisfied: pywin32>=300 in c:\\users\\asus\\anaconda3\\lib\\site-packages (from jupyter-core>=4.7->nbconvert->notebook-as-pdf) (305.1)\n",
      "Requirement already satisfied: jupyter-client>=6.1.5 in c:\\users\\asus\\anaconda3\\lib\\site-packages (from nbclient>=0.5.0->nbconvert->notebook-as-pdf) (7.4.9)\n",
      "Requirement already satisfied: nest-asyncio in c:\\users\\asus\\anaconda3\\lib\\site-packages (from nbclient>=0.5.0->nbconvert->notebook-as-pdf) (1.5.6)\n",
      "Requirement already satisfied: fastjsonschema in c:\\users\\asus\\anaconda3\\lib\\site-packages (from nbformat>=5.1->nbconvert->notebook-as-pdf) (2.16.2)\n",
      "Requirement already satisfied: jsonschema>=2.6 in c:\\users\\asus\\anaconda3\\lib\\site-packages (from nbformat>=5.1->nbconvert->notebook-as-pdf) (4.17.3)\n",
      "Requirement already satisfied: colorama in c:\\users\\asus\\anaconda3\\lib\\site-packages (from tqdm<5.0.0,>=4.42.1->pyppeteer->notebook-as-pdf) (0.4.6)\n",
      "Requirement already satisfied: soupsieve>1.2 in c:\\users\\asus\\anaconda3\\lib\\site-packages (from beautifulsoup4->nbconvert->notebook-as-pdf) (2.4)\n",
      "Requirement already satisfied: six>=1.9.0 in c:\\users\\asus\\anaconda3\\lib\\site-packages (from bleach->nbconvert->notebook-as-pdf) (1.16.0)\n",
      "Requirement already satisfied: webencodings in c:\\users\\asus\\anaconda3\\lib\\site-packages (from bleach->nbconvert->notebook-as-pdf) (0.5.1)\n",
      "Requirement already satisfied: attrs>=17.4.0 in c:\\users\\asus\\anaconda3\\lib\\site-packages (from jsonschema>=2.6->nbformat>=5.1->nbconvert->notebook-as-pdf) (22.1.0)\n",
      "Requirement already satisfied: pyrsistent!=0.17.0,!=0.17.1,!=0.17.2,>=0.14.0 in c:\\users\\asus\\anaconda3\\lib\\site-packages (from jsonschema>=2.6->nbformat>=5.1->nbconvert->notebook-as-pdf) (0.18.0)\n",
      "Requirement already satisfied: python-dateutil>=2.8.2 in c:\\users\\asus\\anaconda3\\lib\\site-packages (from jupyter-client>=6.1.5->nbclient>=0.5.0->nbconvert->notebook-as-pdf) (2.8.2)\n",
      "Requirement already satisfied: pyzmq>=23.0 in c:\\users\\asus\\anaconda3\\lib\\site-packages (from jupyter-client>=6.1.5->nbclient>=0.5.0->nbconvert->notebook-as-pdf) (23.2.0)\n",
      "Requirement already satisfied: tornado>=6.2 in c:\\users\\asus\\anaconda3\\lib\\site-packages (from jupyter-client>=6.1.5->nbclient>=0.5.0->nbconvert->notebook-as-pdf) (6.3.2)\n",
      "Installing collected packages: pyee, websockets, PyPDF2, pyppeteer, notebook-as-pdf\n",
      "Successfully installed PyPDF2-3.0.1 notebook-as-pdf-0.5.0 pyee-8.2.2 pyppeteer-1.0.2 websockets-10.4\n",
      "Note: you may need to restart the kernel to use updated packages.\n"
     ]
    }
   ],
   "source": [
    "pip install notebook-as-pdf"
   ]
  },
  {
   "cell_type": "code",
   "execution_count": 3,
   "id": "36e29ad3",
   "metadata": {},
   "outputs": [
    {
     "ename": "SyntaxError",
     "evalue": "invalid syntax (1571338541.py, line 1)",
     "output_type": "error",
     "traceback": [
      "\u001b[1;36m  Cell \u001b[1;32mIn[3], line 1\u001b[1;36m\u001b[0m\n\u001b[1;33m    jupyter-nbconvert --to pdfviahtml Prediction_of_CreditCard _fraud.ipynb\u001b[0m\n\u001b[1;37m                           ^\u001b[0m\n\u001b[1;31mSyntaxError\u001b[0m\u001b[1;31m:\u001b[0m invalid syntax\n"
     ]
    }
   ],
   "source": [
    "jupyter-nbconvert --to pdfviahtml Prediction_of_CreditCard _fraud.ipynb"
   ]
  }
 ],
 "metadata": {
  "kernelspec": {
   "display_name": "Python 3 (ipykernel)",
   "language": "python",
   "name": "python3"
  },
  "language_info": {
   "codemirror_mode": {
    "name": "ipython",
    "version": 3
   },
   "file_extension": ".py",
   "mimetype": "text/x-python",
   "name": "python",
   "nbconvert_exporter": "python",
   "pygments_lexer": "ipython3",
   "version": "3.11.4"
  }
 },
 "nbformat": 4,
 "nbformat_minor": 5
}
